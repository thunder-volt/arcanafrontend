{
 "cells": [
  {
   "cell_type": "code",
   "execution_count": 2,
   "id": "b661e39b",
   "metadata": {},
   "outputs": [
    {
     "ename": "ModuleNotFoundError",
     "evalue": "No module named 'textblob'",
     "output_type": "error",
     "traceback": [
      "\u001b[0;31m---------------------------------------------------------------------------\u001b[0m",
      "\u001b[0;31mModuleNotFoundError\u001b[0m                       Traceback (most recent call last)",
      "\u001b[0;32m/var/folders/rb/d9v8s0151z13cwhg1nn2_b7h0000gn/T/ipykernel_13041/2567514830.py\u001b[0m in \u001b[0;36m<module>\u001b[0;34m\u001b[0m\n\u001b[1;32m      1\u001b[0m \u001b[0;32mimport\u001b[0m \u001b[0mjson\u001b[0m\u001b[0;34m\u001b[0m\u001b[0;34m\u001b[0m\u001b[0m\n\u001b[1;32m      2\u001b[0m \u001b[0;32mimport\u001b[0m \u001b[0mos\u001b[0m\u001b[0;34m\u001b[0m\u001b[0;34m\u001b[0m\u001b[0m\n\u001b[0;32m----> 3\u001b[0;31m \u001b[0;32mfrom\u001b[0m \u001b[0mtextblob\u001b[0m \u001b[0;32mimport\u001b[0m \u001b[0mTextBlob\u001b[0m\u001b[0;34m\u001b[0m\u001b[0;34m\u001b[0m\u001b[0m\n\u001b[0m\u001b[1;32m      4\u001b[0m \u001b[0;32mimport\u001b[0m \u001b[0mcsv\u001b[0m\u001b[0;34m\u001b[0m\u001b[0;34m\u001b[0m\u001b[0m\n\u001b[1;32m      5\u001b[0m \u001b[0;34m\u001b[0m\u001b[0m\n",
      "\u001b[0;31mModuleNotFoundError\u001b[0m: No module named 'textblob'"
     ]
    }
   ],
   "source": [
    "import json \n",
    "import os\n",
    "from textblob import TextBlob\n",
    "import csv \n",
    "\n",
    "\n",
    "base_dir = \"/Users/subhamsagar/Downloads/FMP\" \n",
    "\n",
    "data_csv = [['SYMBOL','QUARTER', 'YEAR', 'POLARITY', 'SUBJECTIVITY']] \n",
    "\n",
    "file_names = os.listdir(base_dir) \n",
    "\n",
    "sentiment_json = {}\n",
    "\n",
    "csvname = \"sentiment_csv.csv\"\n",
    "mode = \"w\"\n",
    "\n",
    "# print(file_names)\n",
    "with open(csvname,mode , newline='') as k :\n",
    "    for file in file_names : \n",
    "        if not file.startswith('.'): \n",
    "            years = os.listdir(base_dir + \"/\" +str(file)) \n",
    "            for year in years : \n",
    "                if not year.startswith('.')  : \n",
    "                    quarters = os.listdir(base_dir+ \"/\" +str(file) + \"/\" + str(year) )\n",
    "                    for quarter in quarters : \n",
    "                        if not quarter.startswith('.') : \n",
    "                            file_path = base_dir + \"/\" + str(file) + \"/\" + str(year) + \"/\" + str(quarter)\n",
    "                            with open(file_path, 'r') as f : \n",
    "                                data = json.load(f) \n",
    "                                content = data[\"content\"]\n",
    "                                symbol = data[\"symbol\"]\n",
    "                                quar = data[\"quarter\"]\n",
    "                                yr = data[\"year\"]\n",
    "                                blob = TextBlob(str(content))  \n",
    "                                polarity , subjectivity = blob.sentiment\n",
    "                                writer = csv.writer(k)\n",
    "                                row = [symbol , \n",
    "                                       quar,\n",
    "                                       yr, \n",
    "                                       polarity, \n",
    "                                       subjectivity\n",
    "                                ]\n",
    "                                writer.writerow(row)"
   ]
  },
  {
   "cell_type": "code",
   "execution_count": null,
   "id": "423eed8a",
   "metadata": {},
   "outputs": [],
   "source": []
  }
 ],
 "metadata": {
  "kernelspec": {
   "display_name": "Python 3 (ipykernel)",
   "language": "python",
   "name": "python3"
  },
  "language_info": {
   "codemirror_mode": {
    "name": "ipython",
    "version": 3
   },
   "file_extension": ".py",
   "mimetype": "text/x-python",
   "name": "python",
   "nbconvert_exporter": "python",
   "pygments_lexer": "ipython3",
   "version": "3.9.13"
  }
 },
 "nbformat": 4,
 "nbformat_minor": 5
}
